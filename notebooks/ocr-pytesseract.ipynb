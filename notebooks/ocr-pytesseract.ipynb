{
 "cells": [
  {
   "cell_type": "code",
   "execution_count": null,
   "id": "522d58e3-8a7e-475b-b203-db33b1e3d574",
   "metadata": {},
   "outputs": [],
   "source": [
    "from PIL import Image\n",
    "\n",
    "import pytesseract"
   ]
  },
  {
   "cell_type": "code",
   "execution_count": null,
   "id": "139fe9e5-08d4-498f-a76d-76ddbd87e115",
   "metadata": {},
   "outputs": [],
   "source": [
    "TEST_IMAGE = '../data/wildreceipt/image_files/Image_1/0/0ea337776eb4a57010accaf2814ea7351770819b.jpeg'\n",
    "\n",
    "\n",
    "Image.open(TEST_IMAGE)"
   ]
  },
  {
   "cell_type": "code",
   "execution_count": null,
   "id": "c8e00592-2ada-4d5d-ac68-55dcdd3059f6",
   "metadata": {},
   "outputs": [],
   "source": [
    "im1 = Image.open(TEST_IMAGE)\n",
    "im1.save('test.png')"
   ]
  },
  {
   "cell_type": "code",
   "execution_count": null,
   "id": "7ce92f0c-326f-4a17-8e01-dc585e209358",
   "metadata": {
    "scrolled": true
   },
   "outputs": [],
   "source": [
    "# If you don't have tesseract executable in your PATH, include the following:\n",
    "# pytesseract.pytesseract.tesseract_cmd = r'<full_path_to_your_tesseract_executable>'\n",
    "# Example tesseract_cmd = r'C:\\Program Files (x86)\\Tesseract-OCR\\tesseract'\n",
    "\n",
    "# Simple image to string\n",
    "print(pytesseract.image_to_string(Image.open(TEST_IMAGE)))"
   ]
  },
  {
   "cell_type": "code",
   "execution_count": null,
   "id": "aa4b60f7-2948-49c3-9e71-56959c2b816b",
   "metadata": {
    "scrolled": true
   },
   "outputs": [],
   "source": [
    "# In order to bypass the image conversions of pytesseract, just use relative or absolute image path\n",
    "# NOTE: In this case you should provide tesseract supported images or tesseract will return error\n",
    "print(pytesseract.image_to_string(TEST_IMAGE))"
   ]
  },
  {
   "cell_type": "code",
   "execution_count": null,
   "id": "7b69cbbe-510b-4047-88dc-3a7035d814a8",
   "metadata": {},
   "outputs": [],
   "source": [
    "# List of available languages\n",
    "print(pytesseract.get_languages(config=''))"
   ]
  },
  {
   "cell_type": "code",
   "execution_count": null,
   "id": "e05f020b-dce4-4c57-a9e8-0530cbe8036d",
   "metadata": {},
   "outputs": [],
   "source": [
    "# Timeout/terminate the tesseract job after a period of time\n",
    "try:\n",
    "    print(pytesseract.image_to_string('test.jpg', timeout=2)) # Timeout after 2 seconds\n",
    "    print(pytesseract.image_to_string('test.jpg', timeout=0.5)) # Timeout after half a second\n",
    "except RuntimeError as timeout_error:\n",
    "    # Tesseract processing is terminated\n",
    "    pass\n"
   ]
  },
  {
   "cell_type": "code",
   "execution_count": null,
   "id": "6002c3a8-2755-4e3b-9291-759b4bed05fa",
   "metadata": {
    "scrolled": true
   },
   "outputs": [],
   "source": [
    "# Get bounding box estimates\n",
    "print(pytesseract.image_to_boxes(Image.open('test.png')))\n"
   ]
  },
  {
   "cell_type": "code",
   "execution_count": null,
   "id": "4cb8ca73-6d7f-4efe-8d50-4a52b40f87dd",
   "metadata": {
    "scrolled": true
   },
   "outputs": [],
   "source": [
    "# Get verbose data including boxes, confidences, line and page numbers\n",
    "# output_type=['string', 'dict', 'data.type']\n",
    "\n",
    "data = pytesseract.image_to_data(Image.open('test.png'), output_type='data.frame')\n",
    "print(type(data))\n",
    "data"
   ]
  },
  {
   "cell_type": "code",
   "execution_count": null,
   "id": "06314010-f216-47ce-9f0b-5b8c530a9621",
   "metadata": {
    "scrolled": true
   },
   "outputs": [],
   "source": []
  },
  {
   "cell_type": "code",
   "execution_count": null,
   "id": "b1994eb7-e2a7-40f8-8eb6-f400037b8a36",
   "metadata": {
    "scrolled": true
   },
   "outputs": [],
   "source": [
    "# Get information about orientation and script detection\n",
    "print(pytesseract.image_to_osd(Image.open('test.png')))"
   ]
  },
  {
   "cell_type": "code",
   "execution_count": null,
   "id": "25de0cc6-6655-48bc-8db8-5df58885f2ca",
   "metadata": {},
   "outputs": [],
   "source": [
    "# Get a searchable PDF\n",
    "pdf = pytesseract.image_to_pdf_or_hocr('test.png', extension='pdf')\n",
    "with open('test.pdf', 'w+b') as f:\n",
    "    f.write(pdf) # pdf type is bytes by default"
   ]
  },
  {
   "cell_type": "code",
   "execution_count": null,
   "id": "ce690d8a-3290-4861-94df-3142e77c7694",
   "metadata": {},
   "outputs": [],
   "source": [
    "# Get HOCR output\n",
    "hocr = pytesseract.image_to_pdf_or_hocr('test.png', extension='hocr')"
   ]
  },
  {
   "cell_type": "code",
   "execution_count": null,
   "id": "3b5fb3ad-a522-473c-96ec-74b7ed97cbc5",
   "metadata": {},
   "outputs": [],
   "source": [
    "hocr"
   ]
  },
  {
   "cell_type": "code",
   "execution_count": null,
   "id": "e1704f70-6a23-4835-a04c-be5173e0c037",
   "metadata": {},
   "outputs": [],
   "source": []
  },
  {
   "cell_type": "code",
   "execution_count": null,
   "id": "c80abef0-7448-4de1-b587-d773dbf644ec",
   "metadata": {},
   "outputs": [],
   "source": []
  },
  {
   "cell_type": "code",
   "execution_count": null,
   "id": "7773b0e8-8b79-45bf-a495-5d3fc6c76a7a",
   "metadata": {},
   "outputs": [],
   "source": []
  },
  {
   "cell_type": "code",
   "execution_count": null,
   "id": "eb9c06eb-9bf8-4380-a1a1-f0eda36d9a8e",
   "metadata": {},
   "outputs": [],
   "source": []
  },
  {
   "cell_type": "code",
   "execution_count": null,
   "id": "33eb891f-7f7e-4bc2-af5f-420908a5ce68",
   "metadata": {},
   "outputs": [],
   "source": []
  },
  {
   "cell_type": "code",
   "execution_count": null,
   "id": "29741980-bf59-4668-a152-670a95b74b4d",
   "metadata": {},
   "outputs": [],
   "source": []
  },
  {
   "cell_type": "code",
   "execution_count": null,
   "id": "8c34d960-5bf4-47dd-852e-0832c956a742",
   "metadata": {},
   "outputs": [],
   "source": []
  }
 ],
 "metadata": {
  "kernelspec": {
   "display_name": "Python 3 (ipykernel)",
   "language": "python",
   "name": "python3"
  },
  "language_info": {
   "codemirror_mode": {
    "name": "ipython",
    "version": 3
   },
   "file_extension": ".py",
   "mimetype": "text/x-python",
   "name": "python",
   "nbconvert_exporter": "python",
   "pygments_lexer": "ipython3",
   "version": "3.11.6"
  }
 },
 "nbformat": 4,
 "nbformat_minor": 5
}
