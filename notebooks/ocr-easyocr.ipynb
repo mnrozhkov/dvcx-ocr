{
 "cells": [
  {
   "cell_type": "code",
   "execution_count": null,
   "id": "aa469463-da17-4120-aae1-871b7b87cd43",
   "metadata": {},
   "outputs": [],
   "source": [
    "import easyocr\n",
    "import pandas as pd\n",
    "from PIL import Image"
   ]
  },
  {
   "cell_type": "code",
   "execution_count": null,
   "id": "3fc941b7-63ae-4b3b-9350-6aa7686a0e7c",
   "metadata": {},
   "outputs": [],
   "source": [
    "TEST_IMAGE = '../data/wildreceipt/image_files/Image_1/0/0ea337776eb4a57010accaf2814ea7351770819b.jpeg'\n",
    "TEST_IMAGE_2 = 'test-2.png'\n",
    "\n",
    "Image.open(TEST_IMAGE)"
   ]
  },
  {
   "cell_type": "markdown",
   "id": "2a69f8ac-7228-4d8d-834c-bb7b1467b035",
   "metadata": {},
   "source": [
    "# Refs\n",
    "\n",
    "- Experiment-1: IMAGE → OCR Engine → text boxes → LLM → JSON object https://mychen76.medium.com/finetune-llm-to-convert-a-receipt-image-to-json-or-xml-3f9a6237e991"
   ]
  },
  {
   "cell_type": "markdown",
   "id": "9b8cc386-c802-4f7e-9836-8dffa1a167e5",
   "metadata": {},
   "source": [
    "# EasyOCR"
   ]
  },
  {
   "cell_type": "markdown",
   "id": "bf2fe463-3b90-4104-97c0-44c6114a796c",
   "metadata": {},
   "source": [
    "### IMAGE → OCR Engine -> Text Boxes"
   ]
  },
  {
   "cell_type": "code",
   "execution_count": null,
   "id": "c5a934d8-ffc4-49fc-97cc-92bee5e46d9e",
   "metadata": {
    "scrolled": true
   },
   "outputs": [],
   "source": [
    "reader = easyocr.Reader(['ch_sim','en']) # this needs to run only once to load the model into memory\n"
   ]
  },
  {
   "cell_type": "code",
   "execution_count": null,
   "id": "003f44cb-7574-4595-a09c-48fbe7df393a",
   "metadata": {
    "scrolled": true
   },
   "outputs": [],
   "source": [
    "\n",
    "# standard, dict, 'json', 'free_merge'\n",
    "\n",
    "result = reader.readtext('test.png', output_format='standard')\n",
    "\n",
    "result"
   ]
  },
  {
   "cell_type": "code",
   "execution_count": null,
   "id": "6a09ed8f-3b31-40db-aeaf-a82e66e272b0",
   "metadata": {
    "scrolled": true
   },
   "outputs": [],
   "source": [
    "result = reader.readtext('test.png', output_format='dict')\n",
    "\n",
    "pd.DataFrame(result)"
   ]
  },
  {
   "cell_type": "code",
   "execution_count": null,
   "id": "704621c6-40d3-4316-8719-5d4b5324c96e",
   "metadata": {
    "scrolled": true
   },
   "outputs": [],
   "source": [
    "Image.open('test-2.png')"
   ]
  },
  {
   "cell_type": "code",
   "execution_count": null,
   "id": "cce052b8-8156-4c40-8447-76fdf6107b23",
   "metadata": {
    "scrolled": true
   },
   "outputs": [],
   "source": [
    "result = reader.readtext('test-2.png', output_format='dict')\n",
    "\n",
    "pd.DataFrame(result)"
   ]
  },
  {
   "cell_type": "code",
   "execution_count": null,
   "id": "6e5285be-b6e9-4409-9e7f-7f6b816240ed",
   "metadata": {
    "scrolled": true
   },
   "outputs": [],
   "source": [
    "result"
   ]
  },
  {
   "cell_type": "markdown",
   "id": "64023d7b-9fce-4ca9-b988-b132a1356f0f",
   "metadata": {},
   "source": [
    "### Text boxes → LLM → JSON object"
   ]
  },
  {
   "cell_type": "code",
   "execution_count": null,
   "id": "1943ec81-ff3f-417a-b902-b8b2f1bbfba2",
   "metadata": {
    "scrolled": true
   },
   "outputs": [],
   "source": [
    "import torch\n",
    "from transformers import AutoModelForCausalLM, AutoTokenizer, GenerationConfig, BitsAndBytesConfig\n",
    "\n",
    "# quantization_config = BitsAndBytesConfig(llm_int8_enable_fp32_cpu_offload=True)\n",
    "# bnb_config = BitsAndBytesConfig(\n",
    "#     llm_int8_enable_fp32_cpu_offload=True,\n",
    "#     load_in_4bit=True,\n",
    "#     bnb_4bit_use_double_quant=True,\n",
    "#     bnb_4bit_quant_type=\"nf4\",\n",
    "#     bnb_4bit_compute_dtype=torch.bfloat16,\n",
    "# )\n",
    "# control model memory allocation between devices for low GPU resource (0,cpu)\n",
    "device_map = {\n",
    "    \"transformer.word_embeddings\": 0,\n",
    "    \"transformer.word_embeddings_layernorm\": 0,\n",
    "    \"lm_head\": 0,\n",
    "    \"transformer.h\": 0,\n",
    "    \"transformer.ln_f\": 0,\n",
    "    \"model.embed_tokens\": 0,\n",
    "    \"model.layers\":0,\n",
    "    \"model.norm\":0    \n",
    "}\n",
    "device = \"cpu\" if torch.cuda.is_available() else \"cpu\"\n",
    "\n",
    "# model use for inference\n",
    "model_id=\"mychen76/mistral7b_ocr_to_json_v1\"\n",
    "model = AutoModelForCausalLM.from_pretrained(\n",
    "    model_id, \n",
    "    trust_remote_code=True,  \n",
    "    torch_dtype=torch.float16,\n",
    "    # quantization_config=quantization_config,\n",
    "    # device_map=device_map\n",
    ")\n",
    "\n",
    "# tokenizer\n",
    "tokenizer = AutoTokenizer.from_pretrained(model_id, trust_remote_code=True)"
   ]
  },
  {
   "cell_type": "code",
   "execution_count": null,
   "id": "04be1698-0907-469b-ae8b-93a4a6b9d017",
   "metadata": {
    "scrolled": true
   },
   "outputs": [],
   "source": [
    "# !pip install accelerate "
   ]
  },
  {
   "cell_type": "code",
   "execution_count": null,
   "id": "a90889dc-2314-4894-a6fb-0623cb38b0d5",
   "metadata": {},
   "outputs": [],
   "source": [
    "prompt=f\"\"\"### Instruction:\n",
    "You are POS receipt data expert, parse, detect, recognize and convert following receipt OCR image result into structure receipt data object. \n",
    "Don't make up value not in the Input. Output must be a well-formed JSON object.```json\n",
    "\n",
    "### Input:\n",
    "{result}\n",
    "\n",
    "### Output:\n",
    "\"\"\"\n",
    "\n",
    "with torch.inference_mode():\n",
    "    inputs = tokenizer(prompt,return_tensors=\"pt\",truncation=True).to(device)\n",
    "    outputs = model.generate(**inputs, max_new_tokens=512) ##use_cache=True, do_sample=True,temperature=0.1, top_p=0.95\n",
    "    result_text = tokenizer.batch_decode(outputs)[0]\n",
    "    print(result_text)"
   ]
  },
  {
   "cell_type": "code",
   "execution_count": null,
   "id": "096a0605-3a14-4316-b3c3-c8d5d4615de1",
   "metadata": {},
   "outputs": [],
   "source": []
  },
  {
   "cell_type": "markdown",
   "id": "4a4a0072-bb48-4068-b48c-3e0356dece32",
   "metadata": {},
   "source": [
    "# python-doctr"
   ]
  },
  {
   "cell_type": "code",
   "execution_count": null,
   "id": "3f0ec51d-7876-431d-b838-e855b8f09f99",
   "metadata": {
    "scrolled": true
   },
   "outputs": [],
   "source": [
    "# !pip install python-doctr==0.8.1"
   ]
  },
  {
   "cell_type": "markdown",
   "id": "0f48017d-773c-4e7f-a179-3c7ebbd21429",
   "metadata": {},
   "source": [
    "### IMAGE → OCR Engine -> Text Boxes"
   ]
  },
  {
   "cell_type": "code",
   "execution_count": null,
   "id": "47414217-027e-4282-8ba5-42277079184f",
   "metadata": {},
   "outputs": [],
   "source": [
    "from doctr.io import DocumentFile\n",
    "from doctr.models import ocr_predictor\n",
    "\n"
   ]
  },
  {
   "cell_type": "code",
   "execution_count": null,
   "id": "e2f9d0df-d9f5-4aba-9e70-e3d5db260556",
   "metadata": {},
   "outputs": [],
   "source": [
    "model = ocr_predictor(det_arch='db_resnet50', reco_arch='crnn_vgg16_bn', pretrained=True)\n",
    "\n",
    "doc = DocumentFile.from_images(\"test.png\")\n",
    "result = model(doc)"
   ]
  },
  {
   "cell_type": "code",
   "execution_count": null,
   "id": "d8ee8da7-2cec-4d4f-9160-9239f487907e",
   "metadata": {
    "scrolled": true
   },
   "outputs": [],
   "source": [
    "result"
   ]
  },
  {
   "cell_type": "code",
   "execution_count": null,
   "id": "33d053ee-e3e9-4528-af00-a42295c42982",
   "metadata": {
    "scrolled": true
   },
   "outputs": [],
   "source": [
    "result.show()"
   ]
  },
  {
   "cell_type": "code",
   "execution_count": null,
   "id": "45d3f84b-e36c-42fc-b71c-130dd39add73",
   "metadata": {
    "scrolled": true
   },
   "outputs": [],
   "source": [
    "json_output = result.export()\n",
    "json_output"
   ]
  },
  {
   "cell_type": "markdown",
   "id": "11eb45d9-4f53-4a4a-b690-b6debe08722a",
   "metadata": {},
   "source": [
    "### Post-Processing - Eliminate irrelevant information"
   ]
  },
  {
   "cell_type": "code",
   "execution_count": null,
   "id": "42cec8fd-b36c-474b-a479-4ce3f0499fd6",
   "metadata": {},
   "outputs": [],
   "source": [
    "# https://djajafer.medium.com/create-a-receipt-parsing-using-ocr-and-a-large-language-model-7aa733d5e335"
   ]
  },
  {
   "cell_type": "code",
   "execution_count": null,
   "id": "5f5b17cd-ea55-47c5-b805-23753b80beaa",
   "metadata": {},
   "outputs": [],
   "source": [
    "# Define a function to remove fields recursively\n",
    "def remove_fields(obj, fields):\n",
    "    if isinstance(obj, list):\n",
    "        for item in obj:\n",
    "            remove_fields(item, fields)\n",
    "    elif isinstance(obj, dict):\n",
    "        for key in list(obj.keys()):\n",
    "            if key in fields:\n",
    "                del obj[key]\n",
    "            else:\n",
    "                remove_fields(obj[key], fields)\n",
    "\n",
    "# Function to remove 'geometry' key from 'blocks' and 'lines'\n",
    "def remove_geometry(data):\n",
    "    if isinstance(data, list):\n",
    "        for item in data:\n",
    "            remove_geometry(item)\n",
    "    elif isinstance(data, dict):\n",
    "        if 'geometry' in data:\n",
    "            del data['geometry']\n",
    "        for key, value in data.items():\n",
    "            remove_geometry(value)\n",
    "\n"
   ]
  },
  {
   "cell_type": "code",
   "execution_count": null,
   "id": "1dec130d-5a10-4226-8393-4ad39fc92653",
   "metadata": {
    "scrolled": true
   },
   "outputs": [],
   "source": [
    "from pprint import pprint\n",
    "# JSON export\n",
    "json_export_raw = result.export()\n",
    "\n",
    "pprint(json_export)"
   ]
  },
  {
   "cell_type": "code",
   "execution_count": null,
   "id": "9751d17b-3cb6-4106-a982-7e6c72699dc5",
   "metadata": {
    "scrolled": true
   },
   "outputs": [],
   "source": [
    "# Fields to remove\n",
    "fields_to_remove = ['confidence', 'page_idx', 'dimensions', 'orientation', 'language', 'artefacts']\n",
    "\n",
    "# Remove the specified fields\n",
    "remove_fields(json_export, fields_to_remove)\n",
    "\n",
    "# Remove 'geometry' from 'blocks' and 'lines'\n",
    "for page in json_export['pages']:\n",
    "    for block in page['blocks']:\n",
    "        if 'geometry' in block:\n",
    "            del block['geometry']\n",
    "        for line in block.get('lines', []):\n",
    "            if 'geometry' in line:\n",
    "                del line['geometry']\n",
    "\n",
    "# Convert the modified data back to JSON\n",
    "modified_json = json.dumps(json_export, separators=(',', ':'))\n",
    "\n",
    "# Print the modified JSON\n",
    "pprint(json_export)"
   ]
  },
  {
   "cell_type": "code",
   "execution_count": null,
   "id": "b127214c-9797-498b-b55c-d6a920d883ac",
   "metadata": {
    "scrolled": true
   },
   "outputs": [],
   "source": [
    "pd.DataFrame.from_dict(json_export, orient='index')"
   ]
  },
  {
   "cell_type": "code",
   "execution_count": null,
   "id": "cd70cede-32d3-44ad-b19e-ad8920559635",
   "metadata": {},
   "outputs": [],
   "source": [
    "synthetic_pages = result.synthesize()\n",
    "plt.imshow(synthetic_pages[0]); plt.axis('off'); plt.show()"
   ]
  },
  {
   "cell_type": "code",
   "execution_count": null,
   "id": "d316dfee-3f72-49de-8aae-49d6ec5dd925",
   "metadata": {
    "scrolled": true
   },
   "outputs": [],
   "source": [
    "for obj1 in json_export['pages'][0][\"blocks\"]:\n",
    "    for obj2 in obj1[\"lines\"]:\n",
    "        for obj3 in obj2[\"words\"]:\n",
    "            print(\"{}: {}\".format(obj3[\"geometry\"],obj3[\"value\"]))"
   ]
  },
  {
   "cell_type": "code",
   "execution_count": null,
   "id": "59ce9c22-2292-400e-a585-66ad012ade81",
   "metadata": {
    "scrolled": true
   },
   "outputs": [],
   "source": [
    "json_export['pages']"
   ]
  },
  {
   "cell_type": "code",
   "execution_count": null,
   "id": "7d9db6f3-74b5-41db-838f-8c378c8afd46",
   "metadata": {},
   "outputs": [],
   "source": [
    "# https://medium.com/quantrium-tech/text-extraction-using-doctr-ocr-471e417764d5 \n",
    "\n",
    "import math\n",
    "def convert_coordinates(geometry, page_dim):\n",
    "    len_x = page_dim[1]\n",
    "    len_y = page_dim[0]\n",
    "    (x_min, y_min) = geometry[0]\n",
    "    (x_max, y_max) = geometry[1]\n",
    "    x_min = math.floor(x_min * len_x)\n",
    "    x_max = math.ceil(x_max * len_x)\n",
    "    y_min = math.floor(y_min * len_y)\n",
    "    y_max = math.ceil(y_max * len_y)\n",
    "    return [x_min, x_max, y_min, y_max]\n",
    "\n",
    "def get_coordinates(output):\n",
    "    page_dim = output['pages'][0][\"dimensions\"]\n",
    "    text_coordinates = []\n",
    "    for obj1 in output['pages'][0][\"blocks\"]:\n",
    "        for obj2 in obj1[\"lines\"]:\n",
    "            for obj3 in obj2[\"words\"]:                \n",
    "                converted_coordinates = convert_coordinates(\n",
    "                                           obj3[\"geometry\"],page_dim\n",
    "                                          )\n",
    "                print(\"{}: {}\".format(converted_coordinates,\n",
    "                                      obj3[\"value\"]\n",
    "                                      )\n",
    "                     )\n",
    "                text_coordinates.append(converted_coordinates)\n",
    "    return text_coordinates\n"
   ]
  },
  {
   "cell_type": "code",
   "execution_count": null,
   "id": "5d0fc641-29b3-41be-ab27-4ce57fed7fbc",
   "metadata": {
    "scrolled": true
   },
   "outputs": [],
   "source": [
    "graphical_coordinates = get_coordinates(json_export_raw)\n",
    "\n",
    "graphical_coordinates"
   ]
  },
  {
   "cell_type": "code",
   "execution_count": null,
   "id": "4f16017e-78a4-42b2-902f-9da8a834dbf5",
   "metadata": {
    "scrolled": true
   },
   "outputs": [],
   "source": [
    "import PIL\n",
    "from PIL import ImageDraw\n",
    "import matplotlib.pyplot as plt\n",
    "\n",
    "def draw_bounds(image, bound):\n",
    "    draw = ImageDraw.Draw(image)\n",
    "    for b in bound:\n",
    "        p0, p1, p2, p3 = [b[0],b[2]], [b[1],b[2]], \\\n",
    "                         [b[1],b[3]], [b[0],b[3]]\n",
    "        draw.line([*p0,*p1,*p2,*p3,*p0], fill='blue', width=2)\n",
    "    return image\n",
    "\n",
    "image = PIL.Image.open(\"test.png\")\n",
    "result_image = draw_bounds(image, graphical_coordinates)\n",
    "\n",
    "plt.figure(figsize=(15,15))\n",
    "plt.imshow(result_image)"
   ]
  },
  {
   "cell_type": "code",
   "execution_count": null,
   "id": "9ded2848-6c7d-47ca-b509-280f76c086ed",
   "metadata": {},
   "outputs": [],
   "source": []
  },
  {
   "cell_type": "code",
   "execution_count": null,
   "id": "d14a1397-591b-443a-9912-021d60278f8b",
   "metadata": {},
   "outputs": [],
   "source": []
  },
  {
   "cell_type": "code",
   "execution_count": null,
   "id": "b1c7f62b-4e7f-4c67-9f60-085e2f633288",
   "metadata": {},
   "outputs": [],
   "source": []
  },
  {
   "cell_type": "code",
   "execution_count": null,
   "id": "b80be251-1609-4d62-a593-b97ae18e0cbe",
   "metadata": {},
   "outputs": [],
   "source": []
  },
  {
   "cell_type": "markdown",
   "id": "cade4dc6-4373-4e7f-95f4-04570d20c8e3",
   "metadata": {},
   "source": [
    "### Text boxes → LLM → JSON object"
   ]
  },
  {
   "cell_type": "code",
   "execution_count": null,
   "id": "a4b4c1de-f12b-49b2-9379-584e74fb65e3",
   "metadata": {},
   "outputs": [],
   "source": []
  },
  {
   "cell_type": "markdown",
   "id": "5557a648-a682-4cf1-abf4-9ecd3b7b22e6",
   "metadata": {},
   "source": [
    "### Load Data  - To train mdiel\n"
   ]
  },
  {
   "cell_type": "code",
   "execution_count": null,
   "id": "6a6b5e52-a5d8-45aa-a513-dfa80babc680",
   "metadata": {
    "scrolled": true
   },
   "outputs": [],
   "source": [
    "from doctr.datasets import CORD\n",
    "# Load straight boxes\n",
    "train_set = CORD(train=True, download=True)\n",
    "# Load rotated boxes\n",
    "train_set = CORD(train=True, download=True, use_polygons=True)\n",
    "img, target = train_set[0]"
   ]
  },
  {
   "cell_type": "code",
   "execution_count": null,
   "id": "0437a915-132d-4b52-96ae-7690a51e7403",
   "metadata": {},
   "outputs": [],
   "source": [
    "from doctr.datasets import WILDRECEIPT\n",
    "\n",
    "WILDRECEIPT_DIR = \"../data/wildreceipt\"\n",
    "\n",
    "train_set = WILDRECEIPT(train=True,img_folder=WILDRECEIPT_DIR,\n",
    "                        label_path=f\"{WILDRECEIPT_DIR}/train.txt\")\n",
    "\n",
    "test_set = WILDRECEIPT(train=False, img_folder=WILDRECEIPT_DIR,\n",
    "                   label_path=f\"{WILDRECEIPT_DIR}/test.txt\")\n",
    "\n",
    "img, target = train_set[0]\n",
    "img, target = test_set[0]\n"
   ]
  },
  {
   "cell_type": "code",
   "execution_count": null,
   "id": "cfeec8df-4fa2-4fb3-88f9-4932e167dab2",
   "metadata": {
    "scrolled": true
   },
   "outputs": [],
   "source": [
    "train_set[0]"
   ]
  },
  {
   "cell_type": "code",
   "execution_count": null,
   "id": "6d87f199-4e8e-49c1-a480-5e609286e3c7",
   "metadata": {},
   "outputs": [],
   "source": [
    "ImageDraw.Draw(img)\n"
   ]
  },
  {
   "cell_type": "code",
   "execution_count": null,
   "id": "42221fe9-9647-4746-a5ec-d2bff9c7fc7e",
   "metadata": {},
   "outputs": [],
   "source": []
  }
 ],
 "metadata": {
  "kernelspec": {
   "display_name": "Python 3 (ipykernel)",
   "language": "python",
   "name": "python3"
  },
  "language_info": {
   "codemirror_mode": {
    "name": "ipython",
    "version": 3
   },
   "file_extension": ".py",
   "mimetype": "text/x-python",
   "name": "python",
   "nbconvert_exporter": "python",
   "pygments_lexer": "ipython3",
   "version": "3.11.6"
  }
 },
 "nbformat": 4,
 "nbformat_minor": 5
}
